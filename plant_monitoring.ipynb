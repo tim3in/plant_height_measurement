{
  "nbformat": 4,
  "nbformat_minor": 0,
  "metadata": {
    "colab": {
      "provenance": []
    },
    "kernelspec": {
      "name": "python3",
      "display_name": "Python 3"
    },
    "language_info": {
      "name": "python"
    }
  },
  "cells": [
    {
      "cell_type": "markdown",
      "source": [
        "# Install Roboflow"
      ],
      "metadata": {
        "id": "JkUhHyy78EuM"
      }
    },
    {
      "cell_type": "code",
      "execution_count": 1,
      "metadata": {
        "colab": {
          "base_uri": "https://localhost:8080/",
          "height": 1000
        },
        "id": "dTFFvEEF48-y",
        "outputId": "dbfd4dde-0790-4c0c-e204-5c7e0b5c0b01"
      },
      "outputs": [
        {
          "output_type": "stream",
          "name": "stdout",
          "text": [
            "Collecting roboflow\n",
            "  Downloading roboflow-1.1.10-py3-none-any.whl (68 kB)\n",
            "\u001b[2K     \u001b[90m━━━━━━━━━━━━━━━━━━━━━━━━━━━━━━━━━━━━━━━━\u001b[0m \u001b[32m68.6/68.6 kB\u001b[0m \u001b[31m2.1 MB/s\u001b[0m eta \u001b[36m0:00:00\u001b[0m\n",
            "\u001b[?25hRequirement already satisfied: certifi==2023.7.22 in /usr/local/lib/python3.10/dist-packages (from roboflow) (2023.7.22)\n",
            "Collecting chardet==4.0.0 (from roboflow)\n",
            "  Downloading chardet-4.0.0-py2.py3-none-any.whl (178 kB)\n",
            "\u001b[2K     \u001b[90m━━━━━━━━━━━━━━━━━━━━━━━━━━━━━━━━━━━━━━━━\u001b[0m \u001b[32m178.7/178.7 kB\u001b[0m \u001b[31m12.1 MB/s\u001b[0m eta \u001b[36m0:00:00\u001b[0m\n",
            "\u001b[?25hCollecting cycler==0.10.0 (from roboflow)\n",
            "  Downloading cycler-0.10.0-py2.py3-none-any.whl (6.5 kB)\n",
            "Collecting idna==2.10 (from roboflow)\n",
            "  Downloading idna-2.10-py2.py3-none-any.whl (58 kB)\n",
            "\u001b[2K     \u001b[90m━━━━━━━━━━━━━━━━━━━━━━━━━━━━━━━━━━━━━━━━\u001b[0m \u001b[32m58.8/58.8 kB\u001b[0m \u001b[31m8.4 MB/s\u001b[0m eta \u001b[36m0:00:00\u001b[0m\n",
            "\u001b[?25hRequirement already satisfied: kiwisolver>=1.3.1 in /usr/local/lib/python3.10/dist-packages (from roboflow) (1.4.5)\n",
            "Requirement already satisfied: matplotlib in /usr/local/lib/python3.10/dist-packages (from roboflow) (3.7.1)\n",
            "Requirement already satisfied: numpy>=1.18.5 in /usr/local/lib/python3.10/dist-packages (from roboflow) (1.23.5)\n",
            "Collecting opencv-python-headless==4.8.0.74 (from roboflow)\n",
            "  Downloading opencv_python_headless-4.8.0.74-cp37-abi3-manylinux_2_17_x86_64.manylinux2014_x86_64.whl (49.1 MB)\n",
            "\u001b[2K     \u001b[90m━━━━━━━━━━━━━━━━━━━━━━━━━━━━━━━━━━━━━━━━\u001b[0m \u001b[32m49.1/49.1 MB\u001b[0m \u001b[31m17.7 MB/s\u001b[0m eta \u001b[36m0:00:00\u001b[0m\n",
            "\u001b[?25hRequirement already satisfied: Pillow>=7.1.2 in /usr/local/lib/python3.10/dist-packages (from roboflow) (9.4.0)\n",
            "Collecting pyparsing==2.4.7 (from roboflow)\n",
            "  Downloading pyparsing-2.4.7-py2.py3-none-any.whl (67 kB)\n",
            "\u001b[2K     \u001b[90m━━━━━━━━━━━━━━━━━━━━━━━━━━━━━━━━━━━━━━━━\u001b[0m \u001b[32m67.8/67.8 kB\u001b[0m \u001b[31m7.4 MB/s\u001b[0m eta \u001b[36m0:00:00\u001b[0m\n",
            "\u001b[?25hRequirement already satisfied: python-dateutil in /usr/local/lib/python3.10/dist-packages (from roboflow) (2.8.2)\n",
            "Collecting python-dotenv (from roboflow)\n",
            "  Downloading python_dotenv-1.0.0-py3-none-any.whl (19 kB)\n",
            "Requirement already satisfied: requests in /usr/local/lib/python3.10/dist-packages (from roboflow) (2.31.0)\n",
            "Requirement already satisfied: six in /usr/local/lib/python3.10/dist-packages (from roboflow) (1.16.0)\n",
            "Collecting supervision (from roboflow)\n",
            "  Downloading supervision-0.16.0-py3-none-any.whl (72 kB)\n",
            "\u001b[2K     \u001b[90m━━━━━━━━━━━━━━━━━━━━━━━━━━━━━━━━━━━━━━━━\u001b[0m \u001b[32m72.2/72.2 kB\u001b[0m \u001b[31m8.5 MB/s\u001b[0m eta \u001b[36m0:00:00\u001b[0m\n",
            "\u001b[?25hRequirement already satisfied: urllib3>=1.26.6 in /usr/local/lib/python3.10/dist-packages (from roboflow) (2.0.7)\n",
            "Requirement already satisfied: tqdm>=4.41.0 in /usr/local/lib/python3.10/dist-packages (from roboflow) (4.66.1)\n",
            "Requirement already satisfied: PyYAML>=5.3.1 in /usr/local/lib/python3.10/dist-packages (from roboflow) (6.0.1)\n",
            "Collecting requests-toolbelt (from roboflow)\n",
            "  Downloading requests_toolbelt-1.0.0-py2.py3-none-any.whl (54 kB)\n",
            "\u001b[2K     \u001b[90m━━━━━━━━━━━━━━━━━━━━━━━━━━━━━━━━━━━━━━━━\u001b[0m \u001b[32m54.5/54.5 kB\u001b[0m \u001b[31m7.0 MB/s\u001b[0m eta \u001b[36m0:00:00\u001b[0m\n",
            "\u001b[?25hCollecting python-magic (from roboflow)\n",
            "  Downloading python_magic-0.4.27-py2.py3-none-any.whl (13 kB)\n",
            "Requirement already satisfied: contourpy>=1.0.1 in /usr/local/lib/python3.10/dist-packages (from matplotlib->roboflow) (1.2.0)\n",
            "Requirement already satisfied: fonttools>=4.22.0 in /usr/local/lib/python3.10/dist-packages (from matplotlib->roboflow) (4.44.3)\n",
            "Requirement already satisfied: packaging>=20.0 in /usr/local/lib/python3.10/dist-packages (from matplotlib->roboflow) (23.2)\n",
            "Requirement already satisfied: charset-normalizer<4,>=2 in /usr/local/lib/python3.10/dist-packages (from requests->roboflow) (3.3.2)\n",
            "Requirement already satisfied: scipy<2.0.0,>=1.9.0 in /usr/local/lib/python3.10/dist-packages (from supervision->roboflow) (1.11.3)\n",
            "Installing collected packages: python-magic, python-dotenv, pyparsing, opencv-python-headless, idna, cycler, chardet, supervision, requests-toolbelt, roboflow\n",
            "  Attempting uninstall: pyparsing\n",
            "    Found existing installation: pyparsing 3.1.1\n",
            "    Uninstalling pyparsing-3.1.1:\n",
            "      Successfully uninstalled pyparsing-3.1.1\n",
            "  Attempting uninstall: opencv-python-headless\n",
            "    Found existing installation: opencv-python-headless 4.8.1.78\n",
            "    Uninstalling opencv-python-headless-4.8.1.78:\n",
            "      Successfully uninstalled opencv-python-headless-4.8.1.78\n",
            "  Attempting uninstall: idna\n",
            "    Found existing installation: idna 3.4\n",
            "    Uninstalling idna-3.4:\n",
            "      Successfully uninstalled idna-3.4\n",
            "  Attempting uninstall: cycler\n",
            "    Found existing installation: cycler 0.12.1\n",
            "    Uninstalling cycler-0.12.1:\n",
            "      Successfully uninstalled cycler-0.12.1\n",
            "  Attempting uninstall: chardet\n",
            "    Found existing installation: chardet 5.2.0\n",
            "    Uninstalling chardet-5.2.0:\n",
            "      Successfully uninstalled chardet-5.2.0\n",
            "Successfully installed chardet-4.0.0 cycler-0.10.0 idna-2.10 opencv-python-headless-4.8.0.74 pyparsing-2.4.7 python-dotenv-1.0.0 python-magic-0.4.27 requests-toolbelt-1.0.0 roboflow-1.1.10 supervision-0.16.0\n"
          ]
        },
        {
          "output_type": "display_data",
          "data": {
            "application/vnd.colab-display-data+json": {
              "pip_warning": {
                "packages": [
                  "cycler",
                  "pyparsing"
                ]
              }
            }
          },
          "metadata": {}
        }
      ],
      "source": [
        "!pip install roboflow"
      ]
    },
    {
      "cell_type": "markdown",
      "source": [
        "# Infer and Generate JSON File"
      ],
      "metadata": {
        "id": "hpxlB87r8LW2"
      }
    },
    {
      "cell_type": "code",
      "source": [
        "from roboflow import Roboflow\n",
        "import json\n",
        "\n",
        "rf = Roboflow(api_key=\"YOUR_API_KEY\")\n",
        "project = rf.workspace(\"tim-4ijf0\").project(\"plantmo\")\n",
        "model = project.version(1).model\n",
        "\n",
        "# infer on a local image\n",
        "print(model.predict(\"/content/50.jpg\", confidence=80, overlap=50).json())\n",
        "predictions_json = model.predict(\"50.jpg\", confidence=40, overlap=30).json()\n",
        "\n",
        "output_json_path = '/content/detection_results.json'\n",
        "\n",
        "# Save the predictions to a JSON file\n",
        "with open(output_json_path, 'w') as json_file:\n",
        "    json.dump(predictions_json, json_file, indent=2)\n",
        "\n",
        "print(f\"Predictions saved to {output_json_path}\")"
      ],
      "metadata": {
        "colab": {
          "base_uri": "https://localhost:8080/"
        },
        "id": "0K-tOxH94_6y",
        "outputId": "6d7f3914-f480-4962-cb5e-0990f4eadedc"
      },
      "execution_count": 3,
      "outputs": [
        {
          "output_type": "stream",
          "name": "stdout",
          "text": [
            "loading Roboflow workspace...\n",
            "loading Roboflow project...\n",
            "{'predictions': [{'x': 428.0, 'y': 294.5, 'width': 280.0, 'height': 395.0, 'confidence': 0.9443135261535645, 'class': 'plant', 'class_id': 0, 'image_path': '/content/50.jpg', 'prediction_type': 'ObjectDetectionModel'}, {'x': 86.0, 'y': 450.5, 'width': 26.0, 'height': 137.0, 'confidence': 0.8782252073287964, 'class': 'ref_obj', 'class_id': 1, 'image_path': '/content/50.jpg', 'prediction_type': 'ObjectDetectionModel'}], 'image': {'width': '800', 'height': '800'}}\n",
            "Predictions saved to /content/detection_results.json\n"
          ]
        }
      ]
    },
    {
      "cell_type": "markdown",
      "source": [
        "# Calculate Plant Height"
      ],
      "metadata": {
        "id": "mlyPaCCT8kv1"
      }
    },
    {
      "cell_type": "code",
      "source": [
        "# Final Code\n",
        "import json\n",
        "import cv2\n",
        "import numpy as np\n",
        "\n",
        "def calculate_pixel_height(bbox):\n",
        "    return bbox['height']\n",
        "\n",
        "def establish_conversion_factor(reference_height, reference_pixel_height):\n",
        "    return reference_height / reference_pixel_height\n",
        "\n",
        "def process_object_detection_results(json_path, image_path, output_path):\n",
        "    # Load the JSON results\n",
        "    with open(json_path, 'r') as file:\n",
        "        detection_results = json.load(file)\n",
        "\n",
        "    # Extract bounding box information for the reference object and the plant\n",
        "    reference_bbox = next(item for item in detection_results['predictions'] if item['class'] == 'ref_obj')\n",
        "    plant_bbox = next(item for item in detection_results['predictions'] if item['class'] == 'plant')\n",
        "\n",
        "    # Calculate pixel height of the reference object\n",
        "    reference_pixel_height = calculate_pixel_height(reference_bbox)\n",
        "\n",
        "    # Known height of the reference object in inches\n",
        "    reference_height_inches = 6\n",
        "\n",
        "    # Establish pixel-to-inch conversion factor\n",
        "    conversion_factor = establish_conversion_factor(reference_height_inches, reference_pixel_height)\n",
        "\n",
        "    # Calculate the actual height of the plant in inches\n",
        "    plant_pixel_height = calculate_pixel_height(plant_bbox)\n",
        "    plant_height_inches = plant_pixel_height * conversion_factor\n",
        "\n",
        "    # Load the original image\n",
        "    image = cv2.imread(image_path)\n",
        "\n",
        "    # Draw bounding boxes and labels on the image\n",
        "    xr = reference_bbox['x'] - (reference_bbox['width']/2);\n",
        "    yr = reference_bbox['y'] - (reference_bbox['height']/2)\n",
        "    reference_box = [\n",
        "\n",
        "        round(xr),\n",
        "        round(yr),\n",
        "        round(xr + reference_bbox['width']),\n",
        "        round(yr + reference_bbox['height'])\n",
        "    ]\n",
        "\n",
        "    xp = plant_bbox['x'] - (plant_bbox['width']/2);\n",
        "    yp = plant_bbox['y'] - (plant_bbox['height']/2);\n",
        "    plant_box = [\n",
        "        round(xp),\n",
        "        round(yp),\n",
        "        round(xp + plant_bbox['width']),\n",
        "        round(yp + plant_bbox['height'])\n",
        "    ]\n",
        "\n",
        "    # Draw reference object bounding box in green\n",
        "    cv2.rectangle(image, (reference_box[0], reference_box[1]), (reference_box[2], reference_box[3]), (0, 255, 0), 2)\n",
        "\n",
        "    # Draw plant bounding box in red\n",
        "    cv2.rectangle(image, (plant_box[0], plant_box[1]), (plant_box[2], plant_box[3]), (0, 0, 255), 2)\n",
        "\n",
        "    # Display labels\n",
        "    font = cv2.FONT_HERSHEY_SIMPLEX\n",
        "    label_y_offset = 20\n",
        "    cv2.putText(image, f\"Reference Object Height: {reference_height_inches} inches\", (reference_box[0], reference_box[1] - label_y_offset),\n",
        "                font, 0.5, (0, 255, 0), 2, cv2.LINE_AA)\n",
        "\n",
        "    cv2.putText(image, f\"Plant Height: {plant_height_inches:.2f} inches\", (plant_box[0], plant_box[1] - label_y_offset),\n",
        "                font, 0.5, (0, 0, 255), 2, cv2.LINE_AA)\n",
        "\n",
        "    # Save the annotated image\n",
        "    cv2.imwrite(output_path, image)\n",
        "    print(f\"Annotated image saved to {output_path}\")\n",
        "\n",
        "# Specify the path to your JSON file, the original image, and the output image\n",
        "json_path = '/content/detection_results.json'\n",
        "image_path = '/content/50.jpg'\n",
        "output_image_path = '/content/output_annotated_50.jpg'\n",
        "\n",
        "# Call the function to process object detection results, calculate heights, and save annotated image\n",
        "process_object_detection_results(json_path, image_path, output_image_path)\n"
      ],
      "metadata": {
        "colab": {
          "base_uri": "https://localhost:8080/"
        },
        "id": "HoSGJ7oI6kpM",
        "outputId": "fe8f6c9e-e4a8-4943-b31b-5f40759587ce"
      },
      "execution_count": 4,
      "outputs": [
        {
          "output_type": "stream",
          "name": "stdout",
          "text": [
            "Annotated image saved to /content/output_annotated_50.jpg\n"
          ]
        }
      ]
    }
  ]
}
